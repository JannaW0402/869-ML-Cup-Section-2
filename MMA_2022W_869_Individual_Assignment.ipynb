{
  "nbformat": 4,
  "nbformat_minor": 0,
  "metadata": {
    "kernelspec": {
      "name": "python3",
      "display_name": "Python 3"
    },
    "colab": {
      "name": "MMA 2022W 869 Individual Assignment.ipynb",
      "provenance": [],
      "collapsed_sections": []
    }
  },
  "cells": [
    {
      "cell_type": "markdown",
      "metadata": {
        "id": "HKmorPdno_n_"
      },
      "source": [
        "# MMA 869: Individual Assignment\n",
        "\n",
        "<font color='red'>\\# TODO: fill in the below</font>\n",
        "\n",
        "- [Yijin, Wang]\n",
        "- [20254856]\n",
        "- [Secion 2]\n",
        "- [Favorite book]\n",
        "- [Aug 9 2021]"
      ]
    },
    {
      "cell_type": "markdown",
      "metadata": {
        "id": "emfFtv4aHBI1"
      },
      "source": [
        "# Assignment Instructions\n",
        "\n",
        "This assignment contains four questions. The questions are fully contained in this Google Colab Notebook. \n",
        "\n",
        "You are to make a copy of this Notebook and edit the copy to provide your answers. You are to complete the assignment entirely within Google Colab. Why?\n",
        "\n",
        "- It gives you practice using cloud-based interactive notebook environments (which is a popular workflow)\n",
        "- It is easier for you to manage the environment (e.g., installing packages, etc.)\n",
        "- Google Colab has nice, beefy machines, so you don't have to worry about running out of memory on your local computer.\n",
        "- It will be easier for the TA to help you debug your code if you need help\n",
        "- It will be easier for the TA to mark/run your code\n",
        "\n",
        "Some parts of this assigment require you to write code. Use Python. You may use standard Python libraries, including `scikit-learn`, `pandas`, `numpy`, and scipy`.\n",
        "\n",
        "Some parts of this assignment require text responses. In these cases, type your response in the Notebook cell indicated. Use English. Use proper grammar, spelling, and punctuation. Be professional and clear. Be complete, but not overly-verbose. Feel free to use [Markdown syntax](https://www.markdownguide.org/basic-syntax/) to format your answer (i.e., add bold, italics, lists, tables).\n",
        "\n",
        "## What to Submit to the Course Portal\n",
        "\n",
        "- Export your completed Notebook as a PDF file by clicking File->Print->Save as PDF.\n",
        "- Please do not submit the Notebook file (`.ipynb`) to the course portal. \n",
        "- Please submit the PDF export of the Notebook. \n",
        "   - Please name the PDF file `2022_869_FirstnameLastName.pdf`\n",
        "      - E.g., `2022_869_StephenThomas.pdf`\n",
        "   - Please make sure you have run all the cells so we can see the output!\n",
        "   - Best practice: Before exporting to PDF click Runtime->Restart and run all.\n",
        "\n"
      ]
    },
    {
      "cell_type": "markdown",
      "metadata": {
        "id": "oZFTCX4DqmRO"
      },
      "source": [
        "# Preliminaries: Inspect and Set up environment\n",
        "\n",
        "No action is required on your part in this section. These cells print out helpful information about the environment, just in case."
      ]
    },
    {
      "cell_type": "code",
      "metadata": {
        "id": "xj34Jz-Do_oK"
      },
      "source": [
        "import datetime\n",
        "import pandas as pd\n",
        "import numpy as np"
      ],
      "execution_count": 2,
      "outputs": []
    },
    {
      "cell_type": "code",
      "metadata": {
        "id": "mqQ_XOKyXTS6",
        "colab": {
          "base_uri": "https://localhost:8080/"
        },
        "outputId": "63ce3698-c743-4711-c1f0-1e1c3c473a0b"
      },
      "source": [
        "print(datetime.datetime.now())"
      ],
      "execution_count": null,
      "outputs": [
        {
          "output_type": "stream",
          "text": [
            "2021-08-06 00:27:36.591836\n"
          ],
          "name": "stdout"
        }
      ]
    },
    {
      "cell_type": "code",
      "metadata": {
        "colab": {
          "base_uri": "https://localhost:8080/"
        },
        "id": "LfOMt1lErLhZ",
        "outputId": "4fa7759a-6d9d-44c0-c9b7-7bc0b9c085c2"
      },
      "source": [
        "!which python"
      ],
      "execution_count": null,
      "outputs": [
        {
          "output_type": "stream",
          "text": [
            "/usr/local/bin/python\n"
          ],
          "name": "stdout"
        }
      ]
    },
    {
      "cell_type": "code",
      "metadata": {
        "colab": {
          "base_uri": "https://localhost:8080/"
        },
        "id": "aub2w1-arM5K",
        "outputId": "65e10eb5-c719-4e4e-9dea-5cfdaf188542"
      },
      "source": [
        "!python --version"
      ],
      "execution_count": null,
      "outputs": [
        {
          "output_type": "stream",
          "text": [
            "Python 3.7.11\n"
          ],
          "name": "stdout"
        }
      ]
    },
    {
      "cell_type": "code",
      "metadata": {
        "colab": {
          "base_uri": "https://localhost:8080/"
        },
        "id": "E9Y_n_8UrO9i",
        "outputId": "f04d1035-6b84-4b8e-bac0-e1a24ae6bb1e"
      },
      "source": [
        "!echo $PYTHONPATH"
      ],
      "execution_count": null,
      "outputs": [
        {
          "output_type": "stream",
          "text": [
            "/env/python\n"
          ],
          "name": "stdout"
        }
      ]
    },
    {
      "cell_type": "code",
      "metadata": {
        "id": "-qyD7Jl0Gw1E",
        "colab": {
          "base_uri": "https://localhost:8080/"
        },
        "outputId": "ac81ced1-1714-4460-cf5a-142992fc8e13"
      },
      "source": [
        "# TODO: install any packages you need to here. For example:\n",
        "!pip install -U scikit-learn\n",
        "!pip install -U yellowbrick"
      ],
      "execution_count": 21,
      "outputs": [
        {
          "output_type": "stream",
          "text": [
            "Requirement already satisfied: scikit-learn in /usr/local/lib/python3.7/dist-packages (0.24.2)\n",
            "Requirement already satisfied: threadpoolctl>=2.0.0 in /usr/local/lib/python3.7/dist-packages (from scikit-learn) (2.2.0)\n",
            "Requirement already satisfied: scipy>=0.19.1 in /usr/local/lib/python3.7/dist-packages (from scikit-learn) (1.4.1)\n",
            "Requirement already satisfied: numpy>=1.13.3 in /usr/local/lib/python3.7/dist-packages (from scikit-learn) (1.19.5)\n",
            "Requirement already satisfied: joblib>=0.11 in /usr/local/lib/python3.7/dist-packages (from scikit-learn) (1.0.1)\n",
            "Requirement already satisfied: yellowbrick in /usr/local/lib/python3.7/dist-packages (1.3.post1)\n",
            "Requirement already satisfied: cycler>=0.10.0 in /usr/local/lib/python3.7/dist-packages (from yellowbrick) (0.10.0)\n",
            "Requirement already satisfied: matplotlib!=3.0.0,>=2.0.2 in /usr/local/lib/python3.7/dist-packages (from yellowbrick) (3.2.2)\n",
            "Requirement already satisfied: scikit-learn>=0.20 in /usr/local/lib/python3.7/dist-packages (from yellowbrick) (0.24.2)\n",
            "Requirement already satisfied: scipy>=1.0.0 in /usr/local/lib/python3.7/dist-packages (from yellowbrick) (1.4.1)\n",
            "Requirement already satisfied: numpy<1.20,>=1.16.0 in /usr/local/lib/python3.7/dist-packages (from yellowbrick) (1.19.5)\n",
            "Requirement already satisfied: six in /usr/local/lib/python3.7/dist-packages (from cycler>=0.10.0->yellowbrick) (1.15.0)\n",
            "Requirement already satisfied: kiwisolver>=1.0.1 in /usr/local/lib/python3.7/dist-packages (from matplotlib!=3.0.0,>=2.0.2->yellowbrick) (1.3.1)\n",
            "Requirement already satisfied: python-dateutil>=2.1 in /usr/local/lib/python3.7/dist-packages (from matplotlib!=3.0.0,>=2.0.2->yellowbrick) (2.8.1)\n",
            "Requirement already satisfied: pyparsing!=2.0.4,!=2.1.2,!=2.1.6,>=2.0.1 in /usr/local/lib/python3.7/dist-packages (from matplotlib!=3.0.0,>=2.0.2->yellowbrick) (2.4.7)\n",
            "Requirement already satisfied: joblib>=0.11 in /usr/local/lib/python3.7/dist-packages (from scikit-learn>=0.20->yellowbrick) (1.0.1)\n",
            "Requirement already satisfied: threadpoolctl>=2.0.0 in /usr/local/lib/python3.7/dist-packages (from scikit-learn>=0.20->yellowbrick) (2.2.0)\n"
          ],
          "name": "stdout"
        }
      ]
    },
    {
      "cell_type": "markdown",
      "metadata": {
        "id": "RLlBjIyS2o54"
      },
      "source": [
        "# Question 1: Uncle Steve's Diamonds"
      ]
    },
    {
      "cell_type": "markdown",
      "metadata": {
        "id": "qj1NSQelo_oN"
      },
      "source": [
        "## Instructions\n",
        "\n",
        "You work at a local jewelry store named *Uncle Steve's Diamonds*. You started as a janitor, but you’ve recently been promoted to senior data analyst! Congratulations.\n",
        "\n",
        "Uncle Steve, the store's owner, needs to better understand the store's customers. In particular, he wants to know what kind of customers shop at the store. He wants to know the main types of *customer personas*. Once he knows these, he will contemplate ways to better market to each persona, better satisfy each persona, better cater to each persona, increase the loyalty of each persona, etc. But first, he must know the personas.\n",
        "\n",
        "You want to help Uncle Steve. Using sneaky magic (and the help of Environics), you've collected four useful features for a subset of the customers: age, income, spending score (i.e., a score based on how much they’ve spent at the store in total), and savings (i.e., how much money they have in their personal bank account). \n",
        "\n",
        "**Your tasks**\n",
        "\n",
        "1. Pick a clustering algorithm (the [`sklearn.cluster`](https://scikit-learn.org/stable/modules/classes.html#module-sklearn.cluster) module has many good choices, including [`KMeans`](https://scikit-learn.org/stable/modules/generated/sklearn.cluster.KMeans.html#sklearn.cluster.KMeans), [`DBSCAN`](https://scikit-learn.org/stable/modules/generated/sklearn.cluster.DBSCAN.html#sklearn.cluster.DBSCAN), and [`AgglomerativeClustering`](https://scikit-learn.org/stable/modules/generated/sklearn.cluster.AgglomerativeClustering.html#sklearn.cluster.AgglomerativeClustering) (aka Hierarchical). (Note that another popular implementation of the hierarchical algorithm can be found in SciPy's [`scipy.cluster.hierarchy.linkage`](https://docs.scipy.org/doc/scipy/reference/generated/scipy.cluster.hierarchy.linkage.html).) Don't spend a lot of time thinking about which algorithm to choose - just pick one. Cluster the customers as best as you can, within reason. That is, try different feature preprocessing steps, hyperparameter values, and/or distance metrics. You don't need to try every single posssible combination, but try a few at least. Measure how good each  model configuration is by calculating an internal validation metric (e.g., [`calinski_harabasz_score`](https://scikit-learn.org/stable/modules/generated/sklearn.metrics.calinski_harabasz_score.html) or [`silhouette_score`](https://scikit-learn.org/stable/modules/generated/sklearn.metrics.silhouette_score.html#sklearn.metrics.silhouette_score)).\n",
        "2. You have some doubts - you're not sure if the algorithm you chose in part 1 is the best algorithm for this dataset/problem. Neither is Uncle Steve. So, choose a different algorithm (any!) and do it all again.\n",
        "3. Which clustering algorithm is \"better\" in this case? Think about charateristics of the algorithm like quality of results, ease of use, speed, interpretability, etc. Choose a winner and justify to Uncle Steve.\n",
        "4. Interpret the clusters of the winning model. That is, describe, in words, a *persona* that accurately depicts each cluster. Use statistics (e.g., cluster means/distributions), examples (e.g., exemplar instances from each cluster), and/or visualizations (e.g., relative importance plots, snakeplots) to get started. Human judgement and creativity will be necessary. This is where it all comes together. Be descripive and *help Uncle Steve understand his customers better*. Please!\n",
        "\n",
        "**Marking**\n",
        "\n",
        "The coding parts (i.e., 1 and 2) will be marked based on:\n",
        "\n",
        "- *Correctness*. Code clearly and fully performs the task specified.\n",
        "- *Reproducibility*. Code is fully reproducible. I.e., you (and I) are able to run this Notebook again and again, from top to bottom, and get the same results each time.\n",
        "- *Style*. Code is organized. All parts commented with clear reasoning and rationale. No old code laying around. Code easy to follow.\n",
        "\n",
        "\n",
        "Parts 3 and 4 will be marked on:\n",
        "\n",
        "- *Quality*. Response is well-justified and convincing. Responses uses facts and data where possible.\n",
        "- *Style*. Response uses proper grammar, spelling, and punctuation. Response is clear and professional. Response is complete, but not overly-verbose. Response follows length guidelines.\n",
        "\n",
        "\n",
        "**Tips**\n",
        "\n",
        "- Since clustering is an unsupervised ML technique, you don't need to split the data into training/validation/test or anything like that. Phew!\n",
        "- On the flip side, since clustering is unsupervised, you will never know the \"true\" clusters, and so you will never know if a given algorithm is \"correct.\" There really is no notion of \"correctness\" - only \"usefullness.\"\n",
        "- Many online clustering tutorials (including some from Uncle Steve) create flashy visualizations of the clusters by plotting the instances on a 2-D graph and coloring each point by the cluster ID. This is really nice and all, but it can only work if your dataset only has exactly two features - no more, no less. This dataset has more than two features, so you cannot use this technique. (But that's OK - you don't need to use this technique.) \n",
        "- Must you use all four features in the clustering? Not necessarily, no. But \"throwing away\" quality data, for no reason, is unlikely to improve a model.\n",
        "- Some people have success applying a dimensionality reduction technique (like [`sklearn.decomposition.PCA`](https://scikit-learn.org/stable/modules/generated/sklearn.decomposition.PCA.html)) to the features before clustering. You may do this if you wish, although it may not be as helpful in this case because there are only four features to begin with.\n",
        "- If you apply a transformation (e.g., [`MinMaxScaler`](https://scikit-learn.org/stable/modules/generated/sklearn.preprocessing.MinMaxScaler.html) or [`StandardScaler`](https://scikit-learn.org/stable/modules/generated/sklearn.preprocessing.StandardScaler.html#sklearn.preprocessing.StandardScaler)) to the features before clustering, you may have difficulty interpretting the means of the clusters (e.g., what is a mean Age of 0.2234??). There are two options to fix this: first, you can always reverse a transformation with the `inverse_transform` method. Second, you can just use the original dataset (i.e., before any prepropoceesing) during the interpreation step.\n",
        "- You cannot change the distance metric for K-Means. (This is for theoretical reasons: K-Means only works/makes sense with Euclidean distance.\n"
      ]
    },
    {
      "cell_type": "markdown",
      "metadata": {
        "id": "Yww0-vtpOw7z"
      },
      "source": [
        "## 1.0: Load data "
      ]
    },
    {
      "cell_type": "code",
      "metadata": {
        "colab": {
          "base_uri": "https://localhost:8080/"
        },
        "id": "qVWx2c-DhQYo",
        "outputId": "f5082800-5bb6-4e8e-aaad-2217f3551d8a"
      },
      "source": [
        "# DO NOT MODIFY THIS CELL\n",
        "df1 = pd.read_csv(\"https://drive.google.com/uc?export=download&id=1thHDCwQK3GijytoSSZNekAsItN_FGHtm\")\n",
        "df1.info()"
      ],
      "execution_count": 19,
      "outputs": [
        {
          "output_type": "stream",
          "text": [
            "<class 'pandas.core.frame.DataFrame'>\n",
            "RangeIndex: 505 entries, 0 to 504\n",
            "Data columns (total 4 columns):\n",
            " #   Column         Non-Null Count  Dtype  \n",
            "---  ------         --------------  -----  \n",
            " 0   Age            505 non-null    int64  \n",
            " 1   Income         505 non-null    int64  \n",
            " 2   SpendingScore  505 non-null    float64\n",
            " 3   Savings        505 non-null    float64\n",
            "dtypes: float64(2), int64(2)\n",
            "memory usage: 15.9 KB\n"
          ],
          "name": "stdout"
        }
      ]
    },
    {
      "cell_type": "markdown",
      "metadata": {
        "id": "R04NzckZKbG2"
      },
      "source": [
        "## 1.1: Clustering Algorithm #1"
      ]
    },
    {
      "cell_type": "code",
      "metadata": {
        "id": "Qeavkicwo_oN"
      },
      "source": [
        "from sklearn.cluster import KMeans\n",
        "import matplotlib.pyplot as plt\n"
      ],
      "execution_count": 23,
      "outputs": []
    },
    {
      "cell_type": "code",
      "metadata": {
        "id": "LxZtLKvmfX3S",
        "outputId": "a79e60f8-8eff-4687-e1a2-05eea5a30ad2",
        "colab": {
          "base_uri": "https://localhost:8080/",
          "height": 452
        }
      },
      "source": [
        "from yellowbrick.cluster import SilhouetteVisualizer"
      ],
      "execution_count": 26,
      "outputs": [
        {
          "output_type": "error",
          "ename": "ImportError",
          "evalue": "ignored",
          "traceback": [
            "\u001b[0;31m---------------------------------------------------------------------------\u001b[0m",
            "\u001b[0;31mImportError\u001b[0m                               Traceback (most recent call last)",
            "\u001b[0;32m<ipython-input-26-88630e5eaeca>\u001b[0m in \u001b[0;36m<module>\u001b[0;34m()\u001b[0m\n\u001b[0;32m----> 1\u001b[0;31m \u001b[0;32mfrom\u001b[0m \u001b[0myellowbrick\u001b[0m\u001b[0;34m.\u001b[0m\u001b[0mcluster\u001b[0m \u001b[0;32mimport\u001b[0m \u001b[0mSilhouetteVisualizer\u001b[0m\u001b[0;34m\u001b[0m\u001b[0;34m\u001b[0m\u001b[0m\n\u001b[0m",
            "\u001b[0;32m/usr/local/lib/python3.7/dist-packages/yellowbrick/cluster/__init__.py\u001b[0m in \u001b[0;36m<module>\u001b[0;34m()\u001b[0m\n\u001b[1;32m     21\u001b[0m \u001b[0;31m## Hoist visualizers into the cluster namespace\u001b[0m\u001b[0;34m\u001b[0m\u001b[0;34m\u001b[0m\u001b[0;34m\u001b[0m\u001b[0m\n\u001b[1;32m     22\u001b[0m \u001b[0;32mfrom\u001b[0m \u001b[0;34m.\u001b[0m\u001b[0mbase\u001b[0m \u001b[0;32mimport\u001b[0m \u001b[0;34m*\u001b[0m\u001b[0;34m\u001b[0m\u001b[0;34m\u001b[0m\u001b[0m\n\u001b[0;32m---> 23\u001b[0;31m \u001b[0;32mfrom\u001b[0m \u001b[0;34m.\u001b[0m\u001b[0melbow\u001b[0m \u001b[0;32mimport\u001b[0m \u001b[0;34m*\u001b[0m\u001b[0;34m\u001b[0m\u001b[0;34m\u001b[0m\u001b[0m\n\u001b[0m\u001b[1;32m     24\u001b[0m \u001b[0;32mfrom\u001b[0m \u001b[0;34m.\u001b[0m\u001b[0msilhouette\u001b[0m \u001b[0;32mimport\u001b[0m \u001b[0;34m*\u001b[0m\u001b[0;34m\u001b[0m\u001b[0;34m\u001b[0m\u001b[0m\n\u001b[1;32m     25\u001b[0m \u001b[0;32mfrom\u001b[0m \u001b[0;34m.\u001b[0m\u001b[0micdm\u001b[0m \u001b[0;32mimport\u001b[0m \u001b[0;34m*\u001b[0m\u001b[0;34m\u001b[0m\u001b[0;34m\u001b[0m\u001b[0m\n",
            "\u001b[0;32m/usr/local/lib/python3.7/dist-packages/yellowbrick/cluster/elbow.py\u001b[0m in \u001b[0;36m<module>\u001b[0;34m()\u001b[0m\n\u001b[1;32m     29\u001b[0m \u001b[0;32mfrom\u001b[0m \u001b[0msklearn\u001b[0m\u001b[0;34m.\u001b[0m\u001b[0mmetrics\u001b[0m\u001b[0;34m.\u001b[0m\u001b[0mpairwise\u001b[0m \u001b[0;32mimport\u001b[0m \u001b[0mpairwise_distances\u001b[0m\u001b[0;34m\u001b[0m\u001b[0;34m\u001b[0m\u001b[0m\n\u001b[1;32m     30\u001b[0m \u001b[0;34m\u001b[0m\u001b[0m\n\u001b[0;32m---> 31\u001b[0;31m \u001b[0;32mfrom\u001b[0m \u001b[0myellowbrick\u001b[0m\u001b[0;34m.\u001b[0m\u001b[0mutils\u001b[0m \u001b[0;32mimport\u001b[0m \u001b[0mKneeLocator\u001b[0m\u001b[0;34m,\u001b[0m \u001b[0mget_param_names\u001b[0m\u001b[0;34m\u001b[0m\u001b[0;34m\u001b[0m\u001b[0m\n\u001b[0m\u001b[1;32m     32\u001b[0m \u001b[0;32mfrom\u001b[0m \u001b[0myellowbrick\u001b[0m\u001b[0;34m.\u001b[0m\u001b[0mstyle\u001b[0m\u001b[0;34m.\u001b[0m\u001b[0mpalettes\u001b[0m \u001b[0;32mimport\u001b[0m \u001b[0mLINE_COLOR\u001b[0m\u001b[0;34m\u001b[0m\u001b[0;34m\u001b[0m\u001b[0m\n\u001b[1;32m     33\u001b[0m \u001b[0;32mfrom\u001b[0m \u001b[0myellowbrick\u001b[0m\u001b[0;34m.\u001b[0m\u001b[0mcluster\u001b[0m\u001b[0;34m.\u001b[0m\u001b[0mbase\u001b[0m \u001b[0;32mimport\u001b[0m \u001b[0mClusteringScoreVisualizer\u001b[0m\u001b[0;34m\u001b[0m\u001b[0;34m\u001b[0m\u001b[0m\n",
            "\u001b[0;31mImportError\u001b[0m: cannot import name 'KneeLocator' from 'yellowbrick.utils' (/usr/local/lib/python3.7/dist-packages/yellowbrick/utils/__init__.py)",
            "",
            "\u001b[0;31m---------------------------------------------------------------------------\u001b[0;32m\nNOTE: If your import is failing due to a missing package, you can\nmanually install dependencies using either !pip or !apt.\n\nTo view examples of installing some common dependencies, click the\n\"Open Examples\" button below.\n\u001b[0;31m---------------------------------------------------------------------------\u001b[0m\n"
          ]
        }
      ]
    },
    {
      "cell_type": "code",
      "metadata": {
        "id": "qREjU8o1dRKA",
        "outputId": "a46d7e67-b067-40be-f178-c9eea93708ba",
        "colab": {
          "base_uri": "https://localhost:8080/",
          "height": 227
        }
      },
      "source": [
        "# Import ElbowVisualizer\n",
        "model = KMeans()\n",
        "# k is range of number of clusters.\n",
        "visualizer = KElbowVisualizer(model, k=(1,15),metric='silhouette', timings= True)\n",
        "visualizer.fit(df1)        # Fit the data to the visualizer\n",
        "visualizer.show() "
      ],
      "execution_count": 16,
      "outputs": [
        {
          "output_type": "error",
          "ename": "NameError",
          "evalue": "ignored",
          "traceback": [
            "\u001b[0;31m---------------------------------------------------------------------------\u001b[0m",
            "\u001b[0;31mNameError\u001b[0m                                 Traceback (most recent call last)",
            "\u001b[0;32m<ipython-input-16-6ca591ef29ad>\u001b[0m in \u001b[0;36m<module>\u001b[0;34m()\u001b[0m\n\u001b[1;32m      2\u001b[0m \u001b[0mmodel\u001b[0m \u001b[0;34m=\u001b[0m \u001b[0mKMeans\u001b[0m\u001b[0;34m(\u001b[0m\u001b[0;34m)\u001b[0m\u001b[0;34m\u001b[0m\u001b[0;34m\u001b[0m\u001b[0m\n\u001b[1;32m      3\u001b[0m \u001b[0;31m# k is range of number of clusters.\u001b[0m\u001b[0;34m\u001b[0m\u001b[0;34m\u001b[0m\u001b[0;34m\u001b[0m\u001b[0m\n\u001b[0;32m----> 4\u001b[0;31m \u001b[0mvisualizer\u001b[0m \u001b[0;34m=\u001b[0m \u001b[0mKElbowVisualizer\u001b[0m\u001b[0;34m(\u001b[0m\u001b[0mmodel\u001b[0m\u001b[0;34m,\u001b[0m \u001b[0mk\u001b[0m\u001b[0;34m=\u001b[0m\u001b[0;34m(\u001b[0m\u001b[0;36m1\u001b[0m\u001b[0;34m,\u001b[0m\u001b[0;36m15\u001b[0m\u001b[0;34m)\u001b[0m\u001b[0;34m,\u001b[0m\u001b[0mmetric\u001b[0m\u001b[0;34m=\u001b[0m\u001b[0;34m'silhouette'\u001b[0m\u001b[0;34m,\u001b[0m \u001b[0mtimings\u001b[0m\u001b[0;34m=\u001b[0m \u001b[0;32mTrue\u001b[0m\u001b[0;34m)\u001b[0m\u001b[0;34m\u001b[0m\u001b[0;34m\u001b[0m\u001b[0m\n\u001b[0m\u001b[1;32m      5\u001b[0m \u001b[0mvisualizer\u001b[0m\u001b[0;34m.\u001b[0m\u001b[0mfit\u001b[0m\u001b[0;34m(\u001b[0m\u001b[0mdf1\u001b[0m\u001b[0;34m)\u001b[0m        \u001b[0;31m# Fit the data to the visualizer\u001b[0m\u001b[0;34m\u001b[0m\u001b[0;34m\u001b[0m\u001b[0m\n\u001b[1;32m      6\u001b[0m \u001b[0mvisualizer\u001b[0m\u001b[0;34m.\u001b[0m\u001b[0mshow\u001b[0m\u001b[0;34m(\u001b[0m\u001b[0;34m)\u001b[0m\u001b[0;34m\u001b[0m\u001b[0;34m\u001b[0m\u001b[0m\n",
            "\u001b[0;31mNameError\u001b[0m: name 'KElbowVisualizer' is not defined"
          ]
        }
      ]
    },
    {
      "cell_type": "code",
      "metadata": {
        "id": "2V7vd-nULrdt",
        "outputId": "9286a7a1-7f08-4ced-9fb7-d4626db6b6d7",
        "colab": {
          "base_uri": "https://localhost:8080/",
          "height": 294
        }
      },
      "source": [
        "res = []\n",
        "for i in range(1, 11):\n",
        "    km = KMeans(\n",
        "        n_clusters=i, init='random',\n",
        "        n_init=10, max_iter=300,\n",
        "        tol=1e-04, random_state=0\n",
        "    )\n",
        "    km.fit(df1)\n",
        "    res.append(np.average(np.min(cdist(df1, km.cluster_centers_, 'euclidean'), axis=1)))\n",
        "\n",
        "# plot\n",
        "plt.plot(range(1, 11), distortions, marker='o')\n",
        "plt.xlabel('Number of clusters')\n",
        "plt.ylabel('res')\n",
        "plt.title('elbow curve')\n",
        "plt.show()   \n"
      ],
      "execution_count": 15,
      "outputs": [
        {
          "output_type": "display_data",
          "data": {
            "image/png": "[encoded data removed]",
            "text/plain": [
              "<Figure size 432x288 with 1 Axes>"
            ]
          },
          "metadata": {
            "tags": [],
            "needs_background": "light"
          }
        }
      ]
    },
    {
      "cell_type": "code",
      "metadata": {
        "id": "6oXqliH_SnLc"
      },
      "source": [
        "\n"
      ],
      "execution_count": null,
      "outputs": []
    },
    {
      "cell_type": "code",
      "metadata": {
        "id": "TtAMjt1iLtJT",
        "outputId": "67ec8dea-271b-423c-e6df-3423a137f863",
        "colab": {
          "base_uri": "https://localhost:8080/"
        }
      },
      "source": [
        "X"
      ],
      "execution_count": 8,
      "outputs": [
        {
          "output_type": "execute_result",
          "data": {
            "text/plain": [
              "array([[ 2.60509732,  1.22529553],\n",
              "       [ 0.5323772 ,  3.31338909],\n",
              "       [ 0.802314  ,  4.38196181],\n",
              "       [ 0.5285368 ,  4.49723858],\n",
              "       [ 2.61858548,  0.35769791],\n",
              "       [ 1.59141542,  4.90497725],\n",
              "       [ 1.74265969,  5.03846671],\n",
              "       [ 2.37533328,  0.08918564],\n",
              "       [-2.12133364,  2.66447408],\n",
              "       [ 1.72039618,  5.25173192],\n",
              "       [ 3.1368855 ,  1.56592763],\n",
              "       [-0.37494566,  2.38787435],\n",
              "       [-1.84562253,  2.71924635],\n",
              "       [ 0.72144399,  4.08475018],\n",
              "       [ 0.16117091,  4.53517846],\n",
              "       [-1.99912714,  2.71285741],\n",
              "       [-1.47804153,  3.2093591 ],\n",
              "       [ 1.8706766 ,  0.77797407],\n",
              "       [-1.5933443 ,  2.76898682],\n",
              "       [ 2.03562611,  0.31361691],\n",
              "       [ 0.64003985,  4.12401075],\n",
              "       [ 2.4411628 ,  1.30941574],\n",
              "       [ 1.13280393,  3.87673946],\n",
              "       [ 1.04829186,  5.03092408],\n",
              "       [-1.26637157,  2.62998828],\n",
              "       [ 2.31690585,  0.81189049],\n",
              "       [ 2.36230721,  1.358767  ],\n",
              "       [ 1.2091013 ,  3.53566548],\n",
              "       [-2.54224625,  3.95012869],\n",
              "       [ 1.4815332 ,  0.67875364],\n",
              "       [-1.59487886,  3.48632794],\n",
              "       [-1.82556205,  2.7989214 ],\n",
              "       [-1.13374003,  2.68467271],\n",
              "       [-1.758702  ,  3.158623  ],\n",
              "       [ 0.3498724 ,  4.69253251],\n",
              "       [ 1.68548602,  1.66917096],\n",
              "       [ 2.989047  ,  1.35068599],\n",
              "       [ 1.73734448,  1.23588031],\n",
              "       [ 0.65910903,  4.12241674],\n",
              "       [ 1.15445328,  4.65707391],\n",
              "       [-1.32738084,  1.53158588],\n",
              "       [-1.6814105 ,  2.07988036],\n",
              "       [ 0.34102758,  4.78848568],\n",
              "       [ 1.87827057,  0.21018801],\n",
              "       [ 2.13860427,  1.21517938],\n",
              "       [ 2.48368283,  0.57215086],\n",
              "       [-1.18113464,  3.26525683],\n",
              "       [ 2.11114739,  3.57660449],\n",
              "       [-1.19371247,  2.68752237],\n",
              "       [ 1.45131429,  4.22810872],\n",
              "       [ 1.83769075,  1.82229552],\n",
              "       [ 0.44089377,  4.83101319],\n",
              "       [ 1.08040757,  4.79210685],\n",
              "       [ 1.84845803,  0.52393625],\n",
              "       [ 2.3914149 ,  1.10139458],\n",
              "       [-1.44865074,  3.03397278],\n",
              "       [ 0.72086751,  3.71347124],\n",
              "       [ 3.01673853,  1.63792106],\n",
              "       [-1.18199493,  3.56880538],\n",
              "       [ 1.34081536,  4.36827878],\n",
              "       [-2.31837321,  3.22307195],\n",
              "       [-0.54894786,  3.11292892],\n",
              "       [-1.6823471 ,  2.96658234],\n",
              "       [-1.53541422,  3.10745813],\n",
              "       [ 1.06498315,  4.10289686],\n",
              "       [-0.39724954,  2.89675369],\n",
              "       [ 1.03972612,  4.50478201],\n",
              "       [ 1.62465468,  1.85269614],\n",
              "       [-0.30022483,  4.63059663],\n",
              "       [ 0.12313498,  5.27917503],\n",
              "       [ 1.54597042,  3.68637442],\n",
              "       [ 1.44254976,  1.31984515],\n",
              "       [ 2.52889351,  0.82015861],\n",
              "       [ 0.38970838,  5.27559792],\n",
              "       [ 1.5381461 ,  1.23846092],\n",
              "       [ 0.82049381,  4.33187   ],\n",
              "       [ 1.56565986,  4.21382491],\n",
              "       [-1.93358614,  2.1846701 ],\n",
              "       [-1.38373217,  3.22230418],\n",
              "       [ 0.96217896,  4.51795326],\n",
              "       [ 1.71810119,  0.91357894],\n",
              "       [ 1.65356269,  0.55288877],\n",
              "       [ 0.4519936 ,  3.59377836],\n",
              "       [ 1.19820169,  4.47062449],\n",
              "       [ 2.20438661,  1.56085661],\n",
              "       [ 3.24683991,  1.3699034 ],\n",
              "       [ 2.51569693,  1.05702749],\n",
              "       [-1.79833475,  3.12590728],\n",
              "       [-2.0495307 ,  3.52345491],\n",
              "       [ 2.36788325,  0.09663483],\n",
              "       [ 2.24348029,  0.34796326],\n",
              "       [ 0.99914934,  4.2101954 ],\n",
              "       [ 1.30963873,  1.11735951],\n",
              "       [ 0.77468161,  4.91500986],\n",
              "       [ 1.70798359,  0.82284639],\n",
              "       [ 1.91784543,  3.6299078 ],\n",
              "       [-2.00487651,  2.74489137],\n",
              "       [-2.10499523,  3.30848131],\n",
              "       [ 1.39731382,  0.66687136],\n",
              "       [ 2.02114672,  1.75433502],\n",
              "       [ 1.67030948,  1.16728826],\n",
              "       [ 2.52997792,  0.94143928],\n",
              "       [-2.18016744,  3.7469476 ],\n",
              "       [ 2.00604126,  0.56592452],\n",
              "       [ 1.50307585,  0.9237462 ],\n",
              "       [ 1.05374379,  4.49286859],\n",
              "       [-1.72662853,  3.10291021],\n",
              "       [ 1.72330962,  4.2012082 ],\n",
              "       [ 0.92466065,  4.50908658],\n",
              "       [ 0.39369516,  4.75420057],\n",
              "       [-1.31377465,  3.25633628],\n",
              "       [ 0.78260667,  4.15263595],\n",
              "       [ 1.82750127,  0.90640324],\n",
              "       [-1.2649585 ,  2.9620933 ],\n",
              "       [ 0.98152009,  5.19672257],\n",
              "       [-2.49504392,  3.01227156],\n",
              "       [ 1.00952869,  4.45502328],\n",
              "       [ 1.40848818,  3.93270482],\n",
              "       [-1.28003312,  2.85983029],\n",
              "       [-1.82506103,  2.89159861],\n",
              "       [ 0.5408715 ,  4.0143625 ],\n",
              "       [ 2.64928242,  1.05613497],\n",
              "       [ 0.5226209 ,  4.32976003],\n",
              "       [ 0.16932115,  4.19741719],\n",
              "       [ 1.8062513 ,  1.86242969],\n",
              "       [ 1.92126584,  1.29889186],\n",
              "       [-1.53906708,  2.54886681],\n",
              "       [ 1.68289011,  0.48444439],\n",
              "       [-2.29730252,  2.94951326],\n",
              "       [-1.45592743,  2.75821805],\n",
              "       [-1.38694171,  2.86880707],\n",
              "       [-1.07181456,  3.07649137],\n",
              "       [ 1.40883907,  1.03118909],\n",
              "       [-1.58598604,  2.57779316],\n",
              "       [-1.58217434,  3.42796862],\n",
              "       [-0.77966174,  1.88288975],\n",
              "       [ 0.56969694,  3.44064603],\n",
              "       [-1.8531083 ,  2.72240557],\n",
              "       [ 1.59885641,  1.4561718 ],\n",
              "       [-1.84094779,  2.6773687 ],\n",
              "       [ 1.35678894,  4.36462484],\n",
              "       [ 1.1774409 ,  3.96138228],\n",
              "       [ 1.73345832, -0.21403792],\n",
              "       [ 2.34356293,  0.79351428],\n",
              "       [-0.95073823,  3.45769156],\n",
              "       [-2.23893447,  2.67122232],\n",
              "       [-1.87292894,  3.68607079],\n",
              "       [-1.8897027 ,  2.22620028],\n",
              "       [ 2.25327088,  0.35113291],\n",
              "       [ 1.55515985,  0.12527811]])"
            ]
          },
          "metadata": {
            "tags": []
          },
          "execution_count": 8
        }
      ]
    },
    {
      "cell_type": "code",
      "metadata": {
        "id": "SFAovwP9L4iK",
        "outputId": "a4830995-750d-40be-e452-b310b16382b9",
        "colab": {
          "base_uri": "https://localhost:8080/"
        }
      },
      "source": [
        "y"
      ],
      "execution_count": 9,
      "outputs": [
        {
          "output_type": "execute_result",
          "data": {
            "text/plain": [
              "array([1, 0, 0, 0, 1, 0, 0, 1, 2, 0, 1, 2, 2, 0, 0, 2, 2, 1, 2, 1, 0, 1,\n",
              "       0, 0, 2, 1, 1, 0, 2, 1, 2, 2, 2, 2, 0, 1, 1, 1, 0, 0, 2, 2, 0, 1,\n",
              "       1, 1, 2, 0, 2, 0, 1, 0, 0, 1, 1, 2, 0, 1, 2, 0, 2, 2, 2, 2, 0, 2,\n",
              "       0, 1, 0, 0, 0, 1, 1, 0, 1, 0, 0, 2, 2, 0, 1, 1, 0, 0, 1, 1, 1, 2,\n",
              "       2, 1, 1, 0, 1, 0, 1, 0, 2, 2, 1, 1, 1, 1, 2, 1, 1, 0, 2, 0, 0, 0,\n",
              "       2, 0, 1, 2, 0, 2, 0, 0, 2, 2, 0, 1, 0, 0, 1, 1, 2, 1, 2, 2, 2, 2,\n",
              "       1, 2, 2, 2, 0, 2, 1, 2, 0, 0, 1, 1, 2, 2, 2, 2, 1, 1])"
            ]
          },
          "metadata": {
            "tags": []
          },
          "execution_count": 9
        }
      ]
    },
    {
      "cell_type": "markdown",
      "metadata": {
        "id": "ihVtYBWg1NM6"
      },
      "source": [
        "## 1.2: Clustering Algorithm #2"
      ]
    },
    {
      "cell_type": "code",
      "metadata": {
        "id": "Pu2xugQj1Mci"
      },
      "source": [
        "# TODO: delete this comment and insert code here. Feel free to add more code cells as appropriate."
      ],
      "execution_count": null,
      "outputs": []
    },
    {
      "cell_type": "markdown",
      "metadata": {
        "id": "6ySJIgNr1Sfy"
      },
      "source": [
        "## 1.3 Model Comparison"
      ]
    },
    {
      "cell_type": "markdown",
      "metadata": {
        "id": "gwQembOT1L6U"
      },
      "source": [
        "TODO: Delete this text and insert your answer here."
      ]
    },
    {
      "cell_type": "markdown",
      "metadata": {
        "id": "MP2EAnCJ1Xta"
      },
      "source": [
        "## 1.4 Personas"
      ]
    },
    {
      "cell_type": "markdown",
      "metadata": {
        "id": "dVewu2TZ1XhK"
      },
      "source": [
        "TODO: Delete this text and insert your answer here."
      ]
    },
    {
      "cell_type": "markdown",
      "metadata": {
        "id": "DYwuYIgczYSv"
      },
      "source": [
        "# Question 2: Uncle Steve's Fine Foods"
      ]
    },
    {
      "cell_type": "markdown",
      "metadata": {
        "id": "4oCr-mTfNG-H"
      },
      "source": [
        "## Instructions\n",
        "\n",
        "Uncle Steve runs a small, local grocery store in Ontario. The store sells all the normal food staples (e.g., bread, milk, cheese, eggs, more cheese, fruits, vegatables, meat, fish, waffles, ice cream, pasta, cereals, drinks), personal care products (e.g., toothpaste, shampoo, hair goo), medicine, and cakes. There's even a little section with flowers and greeting cards! Normal people shop here, and buy normal things in the normal way.\n",
        "\n",
        "Business is OK but Uncle Steve wants more. He's thus on the hunt for customer insights. Given your success at the jewelry store, he has asked you to help him out. \n",
        "\n",
        "He has given you a few years' worth of customer transactions, i.e., sets of items that customers have purchased. You have applied an association rules learning algorithm (like Apriori) to the data, and the algorithm has generated a large set of association rules of the form `{X} -> {Y}`, where `{X}` and `{Y}` are item-sets.\n",
        "\n",
        "Now comes a thought experiment. For each of the following scenarios, state what one of the discovered association rules might be that would meet the stated condition. (Just make up the rule, using your human experience and intuition.) Also, describe whether and why each rule would be considered interesting or uninteresting for Uncle Steve (i.e., is this insight new to him? Would he be able to use it somehow?).\n",
        "\n",
        "Keep each answer to 600 characters or less (including spaces).\n",
        "\n",
        "To get those brain juices going, an example condition and answer is provided below:\n",
        "\n",
        "> Condition: A rule that has high support.\n",
        "\n",
        "> Answer: The rule `{milk} -> {bread}` would have high support, since milk and bread are household staples and a high percentage of transactions would include both `{milk}` and `{bread}`. Uncle Steve would likely not find this rule interesting, because these items are so common, he would have surely already noticed that so many transactions contain them.\n",
        "\n",
        "**Marking**\n",
        "\n",
        "Your responses will be marked as follows:\n",
        "\n",
        "- *Correctness*. Rule meets the specificed condition, and seems plausible in an Ontario grocery store.\n",
        "- *Justification of interestness*. Response clearly describes whether and why the rule would be considered interesting to Uncle Steve.\n",
        "\n",
        "**Tips**\n",
        "\n",
        "- There is no actual data for this question. This question is just a thought exercise. You need to use your intuition, creatitivty, and understanding of the real world. I assume you are familiar with what happens inside of normal grocery stores. We are not using actual data and you do not need to create/generate/find any data. I repeat: there is no data for this question.\n",
        "- The reason this question is having you do a thought experiment, rather than writing and running code to find actual association rules on an actual dataset, is because writing code to find association rules is actually pretty easy. But using your brain to come up with rules that meet certain criteria, on the other hand, is a true test of whether you understand how the algorithm works, what support and confidence mean, and the applicability of rules. The question uses the grocery store context because most, if not all, students should be familiar from personal experience.\n",
        "\n"
      ]
    },
    {
      "cell_type": "markdown",
      "metadata": {
        "id": "3YQsOb6CzYVq"
      },
      "source": [
        "## 2.1: A rule that might have high support and high confidence. "
      ]
    },
    {
      "cell_type": "markdown",
      "metadata": {
        "id": "DzXu1IvK-MEg"
      },
      "source": [
        "TODO: Delete this text and insert your answer here."
      ]
    },
    {
      "cell_type": "markdown",
      "metadata": {
        "id": "VNIrAgJk-L4l"
      },
      "source": [
        "## 2.2: A rule that might have reasonably high support but low confidence."
      ]
    },
    {
      "cell_type": "markdown",
      "metadata": {
        "id": "svdzYW3S-LvF"
      },
      "source": [
        "TODO: Delete this text and insert your answer here."
      ]
    },
    {
      "cell_type": "markdown",
      "metadata": {
        "id": "loe--LMz-Ll8"
      },
      "source": [
        "## 2.3: A rule that might have low support and low confidence."
      ]
    },
    {
      "cell_type": "markdown",
      "metadata": {
        "id": "HdyOB5fe-Zgy"
      },
      "source": [
        "TODO: Delete this text and insert your answer here."
      ]
    },
    {
      "cell_type": "markdown",
      "metadata": {
        "id": "St2eI3We-ZYs"
      },
      "source": [
        "## 2.4: A rule that might have low support and high confidence."
      ]
    },
    {
      "cell_type": "markdown",
      "metadata": {
        "id": "LcdZc-B1-fE7"
      },
      "source": [
        "TODO: Delete this text and insert your answer here."
      ]
    },
    {
      "cell_type": "markdown",
      "metadata": {
        "id": "B_IHoz7f2yIV"
      },
      "source": [
        "# Question 3: Uncle Steve's Credit Union"
      ]
    },
    {
      "cell_type": "markdown",
      "metadata": {
        "id": "WhERdkp_zYBY"
      },
      "source": [
        "## Instructions\n",
        "\n",
        "Uncle Steve has recently opened a new credit union in Kingston, named *Uncle Steve's Credit Union*. He plans to disrupt the local market by instaneously providing credit to customers.\n",
        "\n",
        "The first step in Uncle Steve's master plan is to create a model to predict whether an application has *good risk* or *bad risk*. He has outsourced the creation of this model to you.\n",
        "\n",
        "You are to create a classification model to predict whether a loan applicant has good risk or bad risk. You will use data  that Uncle Steve bought from another credit union (somewhere in Europe, he thinks?) that has around 6000 instances and a number of demographics features (e.g., `Sex`, `DateOfBirth`, `Married`), loan details (e.g., `Amount`, `Purpose`), credit history (e.g., number of loans), as well as an indicator (called `BadCredit` in the dataset) as to whether that person was a bad risk.\n",
        "\n",
        "\n",
        "**Your tasks**\n",
        "\n",
        "To examine the effects of the various ML stages, you are to create the model several times, each time adding more sophistication, and measuring how much the model improved (or not). In particular, you will:\n",
        "\n",
        "0. Split the data in training and testing. Don't touch the testing data again, for any reason, until step 5. We are pretending that the testing data is \"future, unseen data that our model won't see until production.\" I'm serious, don't touch it. I'm watching you!\n",
        "1. Build a baseline model - no feature engineering, no feature selection, no hyperparameter tuning (just use the default settings), nothing fancy. (You may need to do some basic feature transformations, e.g., encoding of categorical features, or dropping of features you do not think will help or do not want to deal with yet.) Measure the performance using K-fold cross validation (recommended: [`sklearn.model_selection.cross_val_score`](https://scikit-learn.org/stable/modules/generated/sklearn.model_selection.cross_val_score.html#sklearn.model_selection.cross_val_score)) on the training data. Use at least 5 folds, but more are better. Choose a [`scoring` parameter](https://scikit-learn.org/stable/modules/model_evaluation.html#scoring-parameter) (i.e., classification metric) that you feel is appropriate for this task. Don't use accuracy. Print the mean score of your model.\n",
        "2. Add a bit of feature engineering. The [`sklearn.preprocessing`](https://scikit-learn.org/stable/modules/classes.html#module-sklearn.preprocessing) module contains many useful transformations. Engineer at least three new features. They don't need to be especially ground-breaking or complicated. Dimensionality reduction techniques like [`sklearn.decomposition.PCA`](https://scikit-learn.org/stable/modules/generated/sklearn.decomposition.PCA.html) are fair game but not required. (If you do use dimensionality reduction techniques, it would only count as \"one\" new feature for the purposes of this assignment, even though I realize that PCA creates many new \"features\" (i.e., principal componentns).) Re-train your baseline model. Measure performance. Compare to step 1.\n",
        "3. Add feature selection. The [`sklearn.feature_selection`](https://scikit-learn.org/stable/modules/classes.html#module-sklearn.feature_selection) has some algorithms for you to choose from. After selecting features, re-train your model, measure performance, and compare to step 2.\n",
        "4. Add hyperparameter tuning. Make reasonable choices and try to find the best (or at least, better) hyperparameters for your estimator and/or transformers. It's probably a good idea to stop using `cross_val_score` at this point and start using [`sklearn.model_selection.GridSearchCV`](https://scikit-learn.org/stable/modules/generated/sklearn.model_selection.GridSearchCV.html#sklearn.model_selection.GridSearchCV) as it is specifically built for this purpose and is more convienient to use. Measure performance and compare to step 3.\n",
        "5. Finally, estimate how well your model will work in production. Use the testing data (our \"future, unseen data\") from step 0. Transform the data as appropriate (easy if you've built a pipeline, a little more difficult if not), use the model from step 4 to get predictions, and measure the performance. How well did we do? \n",
        "\n",
        "\n",
        "**Marking**\n",
        "\n",
        "Each part will be marked for:\n",
        "- *Correctness*. Code clearly and fully performs the task specified.\n",
        "- *Reproducibility*. Code is fully reproducible. I.e., you (and I) should be able to run this Notebook again and again, from top to bottom, and get the same results each and every time.\n",
        "- *Style*. Code is organized. All parts commented with clear reasoning and rationale. No old code laying around. Code easy to follow. \n",
        "\n",
        "\n",
        "**Tips**\n",
        "- The origins of the dataset are a bit of a mystery. Assume the data set is recent (circa 2021) and up-to-date. Assume that column names are correct and accurate.\n",
        "- You don't need to experiment with more than one algorithm/estimator. Just choose one (e.g., [`sklearn.tree.DecisionTreeClassifier`](https://scikit-learn.org/stable/modules/generated/sklearn.tree.DecisionTreeClassifier.html#sklearn.tree.DecisionTreeClassifier), [`sklearn.ensemble.RandomForestClassifier`](https://scikit-learn.org/stable/modules/generated/sklearn.ensemble.RandomForestClassifier.html#sklearn.ensemble.RandomForestClassifier), [`sklearn.linear_model.LogisticRegression`](https://scikit-learn.org/stable/modules/generated/sklearn.linear_model.LogisticRegression.html#sklearn.linear_model.LogisticRegression), [`sklearn.svm.LinearSVC`](https://scikit-learn.org/stable/modules/generated/sklearn.svm.LinearSVC.html#sklearn.svm.LinearSVC), whatever) and stick with it for this question. \n",
        "- There is no minimum accuracy/precision/recall for this question. I.e., your mark will not be based on how good your model is. Rather, you mark will be based on good your process is.\n",
        "- Watch out for data leakage and overfitting. In particular, be sure to `fit()` any estimators and transformers (collectively, *objects*) only to the training data, and then use the objects' `transform()` methods on both the training and testing data. [Data School](https://www.youtube.com/c/dataschool/featured) has a [helpful video](https://www.youtube.com/watch?v=g2XsZdwbCCs) about this. [Pipelines](https://www.youtube.com/watch?v=1Y6O9nCo0-I) are very helpful here and make your code shorter and more robust (at the expense of making it harder to understand), and I recommend using them, but they are not required for this assignment.\n",
        "- Create as many code cells as you need. In general, each cell should do one \"thing.\"\n",
        "-\tDon't print large volumes of output. E.g., don't do: `df.head(100)`\n",
        "\n",
        "\n"
      ]
    },
    {
      "cell_type": "markdown",
      "metadata": {
        "id": "jqm_REd4oouz"
      },
      "source": [
        "## 3.0: Load data and split"
      ]
    },
    {
      "cell_type": "code",
      "metadata": {
        "id": "X6b_BM0Nz9sF",
        "colab": {
          "base_uri": "https://localhost:8080/"
        },
        "outputId": "aa77f2e3-c6a2-4b80-bfcf-75fb641234ea"
      },
      "source": [
        "# DO NOT MODIFY THIS CELL\n",
        "\n",
        "# First, we'll read the provided labeled training data\n",
        "df3 = pd.read_csv(\"https://drive.google.com/uc?export=download&id=1wOhyCnvGeY4jplxI8lZ-bbYN3zLtickf\")\n",
        "df3.info()\n",
        "\n",
        "from sklearn.model_selection import train_test_split\n",
        "\n",
        "X = df3.drop('BadCredit', axis=1) #.select_dtypes(['number'])\n",
        "y = df3['BadCredit']\n",
        "\n",
        "X_train, X_test, y_train, y_test = train_test_split(X, y, test_size=0.2, random_state=42)"
      ],
      "execution_count": null,
      "outputs": [
        {
          "output_type": "stream",
          "text": [
            "<class 'pandas.core.frame.DataFrame'>\n",
            "RangeIndex: 6000 entries, 0 to 5999\n",
            "Data columns (total 17 columns):\n",
            " #   Column             Non-Null Count  Dtype \n",
            "---  ------             --------------  ----- \n",
            " 0   UserID             6000 non-null   object\n",
            " 1   Sex                6000 non-null   object\n",
            " 2   PreviousDefault    6000 non-null   int64 \n",
            " 3   FirstName          6000 non-null   object\n",
            " 4   LastName           6000 non-null   object\n",
            " 5   NumberPets         6000 non-null   int64 \n",
            " 6   PreviousAccounts   6000 non-null   int64 \n",
            " 7   ResidenceDuration  6000 non-null   int64 \n",
            " 8   Street             6000 non-null   object\n",
            " 9   LicensePlate       6000 non-null   object\n",
            " 10  BadCredit          6000 non-null   int64 \n",
            " 11  Amount             6000 non-null   int64 \n",
            " 12  Married            6000 non-null   int64 \n",
            " 13  Duration           6000 non-null   int64 \n",
            " 14  City               6000 non-null   object\n",
            " 15  Purpose            6000 non-null   object\n",
            " 16  DateOfBirth        6000 non-null   object\n",
            "dtypes: int64(8), object(9)\n",
            "memory usage: 797.0+ KB\n"
          ],
          "name": "stdout"
        }
      ]
    },
    {
      "cell_type": "markdown",
      "metadata": {
        "id": "sdiKKblCo53S"
      },
      "source": [
        "## 3.1: Baseline model"
      ]
    },
    {
      "cell_type": "code",
      "metadata": {
        "id": "mSumAZUAo9O6"
      },
      "source": [
        "# TODO: Insert code here. Feel free to create additional code cells if necessary."
      ],
      "execution_count": null,
      "outputs": []
    },
    {
      "cell_type": "markdown",
      "metadata": {
        "id": "ugyTS51Ko5vz"
      },
      "source": [
        "## 3.2: Feature engineering"
      ]
    },
    {
      "cell_type": "code",
      "metadata": {
        "id": "742aYkYbprVD"
      },
      "source": [
        "# TODO: Insert code here. Feel free to create additional code cells if necessary."
      ],
      "execution_count": null,
      "outputs": []
    },
    {
      "cell_type": "markdown",
      "metadata": {
        "id": "PsdD0clko5pz"
      },
      "source": [
        "## 3.3: Feature selection"
      ]
    },
    {
      "cell_type": "code",
      "metadata": {
        "id": "rxX2ERqzpqxi"
      },
      "source": [
        "# TODO: Insert code here. Feel free to create additional code cells if necessary."
      ],
      "execution_count": null,
      "outputs": []
    },
    {
      "cell_type": "markdown",
      "metadata": {
        "id": "Ff4l2aNKo5fr"
      },
      "source": [
        "## 3.4: Hyperparameter tuning"
      ]
    },
    {
      "cell_type": "code",
      "metadata": {
        "id": "7XaxtTWMpIpP"
      },
      "source": [
        "# TODO: Insert code here. Feel free to create additional code cells if necessary."
      ],
      "execution_count": null,
      "outputs": []
    },
    {
      "cell_type": "markdown",
      "metadata": {
        "id": "Te9gGGLEpXRG"
      },
      "source": [
        "## 3.5: Performance estimation"
      ]
    },
    {
      "cell_type": "code",
      "metadata": {
        "id": "YV_35bEupbfs"
      },
      "source": [
        "# TODO: Insert code here. Feel free to create additional code cells if necessary."
      ],
      "execution_count": null,
      "outputs": []
    },
    {
      "cell_type": "markdown",
      "metadata": {
        "id": "bPiErnUaTQSk"
      },
      "source": [
        "# Question 4: Uncle Steve's Wind Farm"
      ]
    },
    {
      "cell_type": "markdown",
      "metadata": {
        "id": "NzLLQCmKTk9E"
      },
      "source": [
        "## Instructions\n",
        "\n",
        "\n",
        "Uncle Steve has invested in wind. He's built a BIG wind farm with a total of  700 turbines. He's been running the farm for a couple of years now and things are going well. He sells the power generated by the farm to the Kingston government and makes a tidy profit. And, of course, he has been gathering data about the turbines' operations.\n",
        "\n",
        "One area of concern, however, is the cost of maintenece. While the turbines are fairly robust, it seems like one breaks/fails every couple of days. When a turbine fails, it usually costs around \\$20,000 to repair it. Yikes!\n",
        "\n",
        "Currently, Uncle Steve is not doing any preventative maintenance. He just waits until a turbine fails, and then he fixes it. But Uncle Steve has recently learned that if he services a turbine *before* it fails, it will only cost around $2,000. \n",
        "\n",
        "Obviously, there is a potential to save a lot of money here. But first, Uncle Steve would need to figure out *which* turbines are about to fail. Uncle Steve being Uncle Steve, he wants to use ML to build a predictive maintenance model. The model will alert Uncle Steve to potential turbine failures before they happen, giving Uncle Steve a chance to perform an inspection on the turbine and fix the turbine before it fails. Uncle Steve plans to run the model every morning. For all the turbines that the model predicts to fail, Uncle Steve will order an inspection (which cost a flat \\$500, no matter if the turbine was in good health or not). For the rest of the turbines, Uncle Steve will do nothing.\n",
        "\n",
        "Uncle Steve has used the last few year's worth of operation data to build and assess a model to predict which turbines will fail on any given day. (The data includes useful features like sensor readings, power output, weather, and many more, but those are not important for now.) In fact, he didn't stop there: he built and assessed two models. One model uses using deep learning (in this case, RNNs), and the other uses random forests.\n",
        "\n",
        "He's tuned the bejeebers out of each model and is comfortable that he has found the best-performing version of each. Both models seem really good: both have accuracy scores > 99%. The RNN has better recall, but Uncle Steve is convinced that the random forest model will be better for him since it has better precision. Just to be sure, he has hired you to double check his calculations. \n",
        "\n",
        "**Your task**\n",
        "\n",
        " Which model will save Uncle Steve more money? Justify.\n",
        "\n",
        "\n",
        "In addition to the details above, here is the assessment of each model:\n",
        "\n",
        "- Confusion matrix for the random forest:\n",
        "\n",
        "|         | Predicted Fail           | Predicted No Fail  |\n",
        "| ------------- |------------| -----:|\n",
        "| **Actual Fail**      | 201 | 55 |\n",
        "| **Actual No Fail**   | 50 | 255195 |\n",
        "\n",
        "- Confusion matrix for the RNN:\n",
        "\n",
        "|         | Predicted Fail           | Predicted No Fail  |\n",
        "| ------------- |------------| -----:|\n",
        "| **Actual Fail**      | 226 | 30 |\n",
        "| **Actual No Fail**   | 1200 | 254045 |\n",
        "\n",
        "\n",
        "**Marking**\n",
        "\n",
        "- *Quality*. Response is well-justified and convincing. \n",
        "- *Style*. Response uses proper grammar, spelling, and punctuation. Response is clear and professional. Response is complete, but not overly-verbose. Response follows length guidelines.\n",
        "\n",
        "\n",
        "\n",
        "**Tips**\n",
        "\n",
        "- Figure out how much Uncle Steve is currently (i.e., without any predictive maintinance models) paying in maintenance costs.\n",
        "- Use the information provided above to create a cost matrix.\n",
        "- Use the cost matrix and the confusion matrices to determine the costs of each model.\n",
        "- The cost of an inspection is the same, no matter if the turbine is in good condition or is about to fail.\n",
        "- If the inspection determines that a turbine is about to fail, then it will be fixed right then and there for the additional fee.\n",
        "- For simplicity, assume the inspections are perfect: i.e., that inspecting a turbine will definitely catch any problems that might exist, and won't accidentally flag an otherwise-healthy turbine.\n",
        "\n"
      ]
    },
    {
      "cell_type": "markdown",
      "metadata": {
        "id": "nAf1SIeKTkfl"
      },
      "source": [
        "TODO: Delete this text and insert your answer here."
      ]
    }
  ]
}